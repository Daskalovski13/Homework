{
 "cells": [
  {
   "cell_type": "code",
   "execution_count": 1,
   "metadata": {},
   "outputs": [
    {
     "name": "stdout",
     "output_type": "stream",
     "text": [
      "(100,)\n"
     ]
    },
    {
     "data": {
      "text/plain": [
       "<Figure size 640x480 with 2 Axes>"
      ]
     },
     "metadata": {},
     "output_type": "display_data"
    },
    {
     "data": {
      "text/plain": [
       "<Figure size 640x480 with 2 Axes>"
      ]
     },
     "metadata": {},
     "output_type": "display_data"
    },
    {
     "data": {
      "text/plain": [
       "<Figure size 640x480 with 2 Axes>"
      ]
     },
     "metadata": {},
     "output_type": "display_data"
    },
    {
     "data": {
      "text/plain": [
       "<Figure size 640x480 with 2 Axes>"
      ]
     },
     "metadata": {},
     "output_type": "display_data"
    }
   ],
   "source": [
    "# Ordinary least squares:\n",
    "from mpl_toolkits.mplot3d import Axes3D\n",
    "import matplotlib.pyplot as plt\n",
    "from matplotlib import cm\n",
    "from matplotlib.ticker import LinearLocator, FormatStrFormatter\n",
    "import numpy as np\n",
    "from random import random, seed\n",
    "from sklearn.preprocessing import PolynomialFeatures\n",
    "from sklearn.linear_model import LinearRegression\n",
    "\n",
    "# Make data.\n",
    "\n",
    "np.random.seed(0)\n",
    "error = 0.05\n",
    "x = np.arange(0, 1, 0.01)\n",
    "y = np.arange(0, 1, 0.01)\n",
    "\n",
    "def FrankeFunction(x,y):\n",
    "    term1 = 0.75*np.exp(-(0.25*(9*x-2)**2) - 0.25*((9*y-2)**2))\n",
    "    term2 = 0.75*np.exp(-((9*x+1)**2)/49.0 - 0.1*(9*y+1))\n",
    "    term3 = 0.5*np.exp(-(9*x-7)**2/4.0 - 0.25*((9*y-3)**2))\n",
    "    term4 = -0.2*np.exp(-(9*x-4)**2 - (9*y-7)**2)\n",
    "    return term1 + term2 + term3 + term4 + error*np.random.randn(100,1)\n",
    "\n",
    "xx, yy = np.meshgrid(x,y)\n",
    "z = FrankeFunction(xx, yy)\n",
    "\n",
    "# Plot the surface.\n",
    "\n",
    "fig = plt.figure()\n",
    "ax = fig.gca(projection='3d')\n",
    "surf = ax.plot_surface(xx, yy, z, cmap=cm.coolwarm,\n",
    "                       linewidth=0, antialiased=False)\n",
    "\n",
    "# Customize the z axis.\n",
    "ax.set_zlim(-0.10, 1.40)\n",
    "ax.zaxis.set_major_locator(LinearLocator(10))\n",
    "ax.zaxis.set_major_formatter(FormatStrFormatter('%.02f'))\n",
    "ax.set_xlabel(\"x\")\n",
    "ax.set_ylabel(\"y\")\n",
    "ax.set_zlabel(\"z\")\n",
    "\n",
    "# Add a color bar which maps values to colors.\n",
    "fig.colorbar(surf, shrink=0.5, aspect=5)\n",
    "\n",
    "plt.show()\n",
    "\n",
    "# Setting up the design matrices for 3rd 4th and 5th order Polynomial:\n",
    "Xdes3rd = np.c_[np.ones((100,1)), x, y, x*x, y*x, y*y, x*x*y, x*y*y, x*x*x, y*y*y]\n",
    "Xdes4th = np.c_[np.ones((100,1)), x, y, x*x, y*x, y*y, x*x*y, x*y*y, x*x*x, y*y*y, x*x*y*y, x*y*y*y, x*x*x*y, x*x*x*x, y*y*y*y]\n",
    "Xdes5th = np.c_[np.ones((100,1)), x, y, x*x, y*x, y*y, x*x*y, x*y*y, x*x*x, y*y*y, x*x*y*y, x*y*y*y, x*x*x*y, x*x*x*x, y*y*y*y, x*x*x*x*y, x*x*x*y*y, x*x*y*y*y, x*y*y*y*y, x*x*x*x*x, y*y*y*y*y]\n",
    "\n",
    "# Setting up corresponding OLSs\n",
    "ols3 = LinearRegression()\n",
    "ols3.fit(Xdes3rd,z)\n",
    "\n",
    "ols4 = LinearRegression()\n",
    "ols4.fit(Xdes4th,z)\n",
    "\n",
    "ols5 = LinearRegression()\n",
    "ols5.fit(Xdes5th,z)\n",
    "\n",
    "# Plotting code from template\n",
    "# Make data.\n",
    "n_row = 100\n",
    "n_col = 100\n",
    "\n",
    "ax_row = np.random.rand(n_row)\n",
    "ax_col = np.random.rand(n_col)\n",
    "\n",
    "# If you wish to plot the data, remember to sort the axes such that the surface\n",
    "# is rendered correctly\n",
    "\n",
    "sort_inds_row = np.argsort(ax_row) # This functions returns the indices to\n",
    "                                   # ax_row that makes ax_row sorted\n",
    "                                   # (see the declaration of ax_row_sorted on how to use the indices)\n",
    "sort_inds_col = np.argsort(ax_col)\n",
    "\n",
    "ROW = ax_row[sort_inds_row]\n",
    "COL = ax_col[sort_inds_col]\n",
    "\n",
    "# Grid the data.\n",
    "# This must be done such that surf (surface plot) understands which (x,y)- point corresponds to which z-value\n",
    "# Meshgrid returns matrices where the first matrix is ax_column repeated along the rows (vertical direction),\n",
    "# where the second matrix has ax_row repeated along the columns (horizontal direction) .\n",
    "# Each pair (rowmat[i,j], colmat[i,j]) for all i,j constitues a coordinate in\n",
    "# the plane in the rectangular domain [min(ax_row), max(ax_row)]x[min(ax_column), max(ax_column)]\n",
    "\n",
    "X3rdplot = np.c_[np.ones((100,1)), ROW, COL, ROW*ROW, COL*ROW, COL*COL, ROW*COL*ROW, COL*COL*ROW, ROW*ROW*ROW, COL*COL*COL]\n",
    "X4thplot = np.c_[np.ones((100,1)), ROW, COL, ROW*ROW, COL*ROW, COL*COL, ROW*COL*ROW, COL*COL*ROW, ROW*ROW*ROW, COL*COL*COL, ROW*ROW*COL*COL, ROW*COL*COL*COL, ROW*ROW*ROW*COL, ROW*ROW*ROW*ROW, COL*COL*COL*COL]\n",
    "X5thplot = np.c_[np.ones((100,1)), ROW, COL, ROW*ROW, COL*ROW, COL*COL, ROW*COL*ROW, COL*COL*ROW, ROW*ROW*ROW, COL*COL*COL, ROW*ROW*COL*COL, ROW*COL*COL*COL, ROW*ROW*ROW*COL, ROW*ROW*ROW*ROW, COL*COL*COL*COL, ROW*ROW*ROW*ROW*COL, ROW*ROW*ROW*COL*COL, ROW*ROW*COL*COL*COL, ROW*COL*COL*COL*COL, ROW*ROW*ROW*ROW*ROW, COL*COL*COL*COL*COL]\n",
    "\n",
    "ROWp, COLp = np.meshgrid(ROW, COL)\n",
    "\n",
    "# This evaluates the height associated for each pair of coordinate made from np.meshgrid\n",
    "Zpredict3 = ols3.predict(X3rdplot)\n",
    "Zpredict4 = ols4.predict(X4thplot)\n",
    "Zpredict5 = ols5.predict(X5thplot)\n",
    "\n",
    "\"\"\"\n",
    "If you wish to make some predictons on z using some regression method and plot the result,\n",
    "it is possible to do so by predicting every pair of (rowmat[i,j], colmat[i,j]).\n",
    "\n",
    "One could think of the pair  (rowmat[i,j], colmat[i,j]) as x-and y-coordinates in the plane.\n",
    "When you have your parameters, apply them to every  (rowmat[i,j], colmat[i,j]) - pair.\n",
    "This could for instance be done by a double for loop, where you perform the predictions\n",
    "within the innermost loop.\n",
    "\n",
    "Every prediction can then be stored in a matrix, e.g z_pred\n",
    "where z_pred[i,j] corresponds to the prediction of (rowmat[i,j], colmat[i,j]),\n",
    "that can be visualized in the same manner as z in the code below.\n",
    "\"\"\"\n",
    "\n",
    "# Plot the generated surface.\n",
    "fig3 = plt.figure() # Starts a new window\n",
    "\n",
    "# specify that we are plotting in 3D\n",
    "ax3 = fig3.gca(projection='3d')\n",
    "\n",
    "surf = ax3.plot_surface(ROWp, COLp, Zpredict3, linewidth = 0, antialiased = False, cmap=cm.plasma)\n",
    "ax3.set_xlabel(\"x\")\n",
    "ax3.set_ylabel(\"y\")\n",
    "ax3.set_zlabel(\"z\")\n",
    "\n",
    "# Add a color bar that shows which color each value is mapped to.\n",
    "fig3.colorbar(surf)\n",
    "\n",
    "# Plot the generated surface.\n",
    "fig4 = plt.figure() # Starts a new window\n",
    "\n",
    "# specify that we are plotting in 3D\n",
    "ax4 = fig4.gca(projection='3d')\n",
    "\n",
    "surf = ax4.plot_surface(ROWp, COLp, Zpredict4, linewidth = 0, antialiased = False, cmap=cm.viridis)\n",
    "ax4.set_xlabel(\"x\")\n",
    "ax4.set_ylabel(\"y\")\n",
    "ax4.set_zlabel(\"z\")\n",
    "\n",
    "# Add a color bar that shows which color each value is mapped to.\n",
    "fig4.colorbar(surf)\n",
    "\n",
    "# Plot the generated surface.\n",
    "fig5 = plt.figure() # Starts a new window\n",
    "\n",
    "# specify that we are plotting in 3D\n",
    "ax5 = fig5.gca(projection='3d')\n",
    "\n",
    "surf = ax5.plot_surface(ROWp, COLp, Zpredict5, linewidth = 0, antialiased = False, cmap=cm.rainbow)\n",
    "ax5.set_xlabel(\"x\")\n",
    "ax5.set_ylabel(\"y\")\n",
    "ax5.set_zlabel(\"z\")\n",
    "\n",
    "# Add a color bar that shows which color each value is mapped to.\n",
    "fig5.colorbar(surf)\n",
    "\n",
    "# Show the plot\n",
    "plt.show()"
   ]
  },
  {
   "cell_type": "code",
   "execution_count": 64,
   "metadata": {},
   "outputs": [
    {
     "name": "stdout",
     "output_type": "stream",
     "text": [
      "Sigma (for noise 3rd order): 0.47771328978938\n",
      "Variance 3rd order: [0.07655959 1.47943998 1.47943998 3.64328766 3.64328766 3.64328766\n",
      " 0.90301471 0.90301471 0.90301471 0.90301471]\n",
      "Sigma (for noise 5th order): 0.31941681283475\n",
      "Variance 5th order: [9.70182073e-02 1.04622383e+01 1.04622383e+01 1.86829719e+02\n",
      " 1.86829719e+02 1.86829719e+02 6.97103014e+02 6.97103014e+02\n",
      " 6.97103014e+02 6.97103014e+02 5.55385562e+02 5.55385562e+02\n",
      " 5.55385562e+02 5.55385562e+02 5.55385562e+02 6.23217711e+01\n",
      " 6.23217711e+01 6.23217711e+01 6.23217711e+01 6.23217710e+01\n",
      " 6.23217710e+01]\n",
      "Mean squared error: 0.004586047581978048\n",
      "Mean squared error: 0.00340273863108519\n",
      "Mean squared error: 0.0030025180406466497\n",
      "R2 score 3rd order: 0.9035617320352014\n",
      "R2 score 4th order: 0.9137821516640194\n",
      "R2 score 5th order: 0.9307570632417503\n"
     ]
    }
   ],
   "source": [
    "from sklearn.metrics import mean_squared_error, r2_score, mean_squared_log_error, mean_absolute_error\n",
    "\n",
    "var_beta3 = np.diag(np.linalg.pinv(Xdes3rd.T.dot(Xdes3rd)))\n",
    "#print(var_beta3)\n",
    "noise3 = 1/96 * np.sum((z-Zpredict3)**2)\n",
    "print('Sigma (for noise 3rd order):', noise3)\n",
    "\n",
    "vart3 = var_beta3*sum3\n",
    "print('Variance 3rd order:', vart3)\n",
    "\n",
    "var_beta5 = np.diag(np.linalg.pinv(Xdes5th.T.dot(Xdes5th)))\n",
    "#print(var_beta5)\n",
    "sum5 = 1/94 * np.sum((z-Zpredict5)**2)\n",
    "print('Sigma (for noise 5th order):', sum5)\n",
    "\n",
    "vart5 = var_beta5*sum5\n",
    "print('Variance 5th order:', vart5)\n",
    "\n",
    "print(\"Mean squared error:\", mean_squared_error(z,Zpredict3))\n",
    "print(\"Mean squared error:\", mean_squared_error(z,Zpredict4))\n",
    "print(\"Mean squared error:\", mean_squared_error(z,Zpredict5))\n",
    "\n",
    "print('R2 score 3rd order:', r2_score(z,Zpredict3))\n",
    "print('R2 score 4th order:', r2_score(z,Zpredict4))\n",
    "print('R2 score 5th order:', r2_score(z,Zpredict5))"
   ]
  },
  {
   "cell_type": "code",
   "execution_count": null,
   "metadata": {},
   "outputs": [],
   "source": []
  },
  {
   "cell_type": "code",
   "execution_count": null,
   "metadata": {},
   "outputs": [],
   "source": []
  }
 ],
 "metadata": {
  "kernelspec": {
   "display_name": "Python 3",
   "language": "python",
   "name": "python3"
  },
  "language_info": {
   "codemirror_mode": {
    "name": "ipython",
    "version": 3
   },
   "file_extension": ".py",
   "mimetype": "text/x-python",
   "name": "python",
   "nbconvert_exporter": "python",
   "pygments_lexer": "ipython3",
   "version": "3.7.1"
  }
 },
 "nbformat": 4,
 "nbformat_minor": 2
}
